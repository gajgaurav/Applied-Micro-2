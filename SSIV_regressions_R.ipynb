{
  "nbformat": 4,
  "nbformat_minor": 0,
  "metadata": {
    "colab": {
      "provenance": []
    },
    "kernelspec": {
      "name": "ir",
      "display_name": "R"
    },
    "language_info": {
      "name": "R"
    }
  },
  "cells": [
    {
      "cell_type": "code",
      "execution_count": null,
      "metadata": {
        "id": "E6-b8RmbBFqK"
      },
      "outputs": [],
      "source": [
        "# Clear environment\n",
        "rm(list = ls(all = TRUE))\n",
        "\n",
        "# Set options\n",
        "options(stringsAsFactors = FALSE)\n",
        "\n",
        "# Load packages\n",
        "library(tidyverse)\n",
        "library(stargazer)\n",
        "library(fixest)\n",
        "library(devtools)\n",
        "library(bartik.weight)\n",
        "library(lfe)\n",
        "library(tidyr)\n",
        "library(ssaggregate)\n",
        "library(knitr)\n",
        "library(kableExtra)"
      ]
    },
    {
      "cell_type": "code",
      "source": [
        "# Data\n",
        "q1data <- read.csv('q1data.csv')\n",
        "q3data <- read.csv('q3data.csv')\n",
        "shifts_shares <- read.csv('shifts_shares.csv')\n",
        "sector_shares_wide <- read.csv('sector_shares_wide.csv')\n",
        "sector_shares_long <- read.csv('sector_shares_long.csv')\n",
        "industry_totals <- read.csv('industry_totals.csv')"
      ],
      "metadata": {
        "id": "S_6Dmir8Dk2p"
      },
      "execution_count": null,
      "outputs": []
    },
    {
      "cell_type": "code",
      "source": [
        "# 1\n",
        "reg1 <- felm(formula = delta_gdp ~ delta_B, data = q1data, cluster ~ czone)\n",
        "\n",
        "stargazer(reg1,\n",
        "          type = \"text\",\n",
        "          dep.var.labels = c(\"Change in Ln(GDP), 2012-15\"),\n",
        "          covariate.labels = c(\"Change in B, 2012-15\"),\n",
        "          table.placement = \"!htbp\",\n",
        "          add.lines = list(c('Clustering level', 'CZ')),\n",
        "          omit.stat = c('adj.rsq', 'ser'),\n",
        "          out = 'HW2q1.tex',\n",
        "          notes.align = \"l\")"
      ],
      "metadata": {
        "id": "xJpHc8FeD4-S"
      },
      "execution_count": null,
      "outputs": []
    },
    {
      "cell_type": "code",
      "source": [
        "# 3\n",
        "\n",
        "reg2 <- felm(delta_emp_1215 ~ delta_B, data = q3data, cluster ~ czone)\n",
        "reg3 <- felm(delta_emp_1215 ~ delta_B| state, data = q3data, cluster ~ czone)\n",
        "reg4 <- felm(delta_emp_1215 ~ delta_B, data = q3data, cluster ~ state)\n",
        "reg5 <- felm(delta_emp_1215 ~ delta_B| state, data = q3data, cluster ~ state)\n",
        "\n",
        "f_stats <- c(\n",
        "  waldtest(reg2, ~ delta_B)[5],\n",
        "  waldtest(reg3, ~ delta_B)[5],\n",
        "  waldtest(reg4, ~ delta_B)[5],\n",
        "  waldtest(reg5, ~ delta_B)[5]\n",
        ")\n",
        "\n",
        "stargazer(\n",
        "  reg2, reg3, reg4, reg5,\n",
        "  type = 'text',\n",
        "  dep.var.labels = c('Change in CZ employment, 2012-15'),\n",
        "  digits = 2,\n",
        "  covariate.labels = c('Change in B, 2012-15'),\n",
        "  add.lines = list(\n",
        "    c('Clustering level', 'CZ', 'CZ', 'State', 'State'),\n",
        "    c('State FE', 'No', 'Yes', 'No', 'Yes'),\n",
        "    c('F-Stat on Bartik IV', round(f_stats, 2))\n",
        "  ),\n",
        "  no.space = TRUE,\n",
        "  column.sep.width = \"1pt\",\n",
        "  notes.append = FALSE,\n",
        "  notes.align = \"l\",\n",
        "  table.placement = \"!htbp\",\n",
        "  omit.stat = c('adj.rsq', 'ser'),\n",
        "  out = 'HW2q3.tex'\n",
        ")"
      ],
      "metadata": {
        "id": "TsL7JByEEHxh"
      },
      "execution_count": null,
      "outputs": []
    },
    {
      "cell_type": "code",
      "source": [
        "# 4\n",
        "\n",
        "# Prepare variables in the master tibble\n",
        "y = \"delta_gdp\"\n",
        "x = \"delta_emp_1215\"\n",
        "\n",
        "# Prepare variables in the local tibble\n",
        "Z = setdiff(names(sector_shares_wide), c('X', \"czone\", 'state'))\n",
        "\n",
        "# Prepare variables in the global tibble\n",
        "G = \"growth\"\n",
        "\n",
        "# Estimate the weight (alpha) and the IV estimates (beta)\n",
        "bw = bw(q3data, y, x, NULL, NULL, sector_shares_wide, Z, industry_totals, G)\n",
        "q4table <- head(bw[order(bw$alpha, decreasing = TRUE), ], 5) %>% select(sector, alpha, beta)\n",
        "q4table %>%\n",
        "  kable(\"latex\", booktabs = TRUE, digits = 3) %>%\n",
        "  kable_styling(full_width = FALSE, font_size = 12)"
      ],
      "metadata": {
        "id": "mS3ixGEgbMp1"
      },
      "execution_count": null,
      "outputs": []
    },
    {
      "cell_type": "code",
      "source": [
        "# 5\n",
        "\n",
        "# first need to transform things using ssaggregate, and then do the regression. should obtain the same\n",
        "# estimate as 3 but different standard errors\n",
        "\n",
        "industry = ssaggregate(\n",
        "  data = q3data,\n",
        "  shares = sector_shares_long,\n",
        "  vars = ~ delta_gdp + delta_emp_1215 + delta_B ,\n",
        "  n = \"sector\",\n",
        "  s = \"share\",\n",
        "  l = 'czone',\n",
        "  addmissing = TRUE\n",
        ")\n",
        "\n",
        "reg6 <- feols(delta_emp_1215 ~ delta_B, data = industry,\n",
        "              weights = ~ s_n, vcov = \"hc1\")\n",
        "\n",
        "etable(reg6,\n",
        "       title = \"Corrected estimates for Table 2, column 1\",\n",
        "       notes = \"HC1 robust standard errors\",\n",
        "       tex = TRUE,\n",
        "       file = \"HW2q5.tex\")"
      ],
      "metadata": {
        "id": "Qb9gZ-9s8hcD"
      },
      "execution_count": null,
      "outputs": []
    }
  ]
}