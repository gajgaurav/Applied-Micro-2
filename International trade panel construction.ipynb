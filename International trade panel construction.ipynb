{
  "nbformat": 4,
  "nbformat_minor": 0,
  "metadata": {
    "colab": {
      "provenance": []
    },
    "kernelspec": {
      "name": "python3",
      "display_name": "Python 3"
    },
    "language_info": {
      "name": "python"
    }
  },
  "cells": [
    {
      "cell_type": "code",
      "execution_count": null,
      "metadata": {
        "id": "-tehtoycPFjC"
      },
      "outputs": [],
      "source": [
        "# Libraries\n",
        "import pandas as pd\n",
        "import numpy as np\n",
        "import matplotlib.pyplot as plt\n",
        "import os\n",
        "import zipfile"
      ]
    },
    {
      "cell_type": "code",
      "source": [
        "# Downloading and unzipping the data\n",
        "!wget -O baci.zip 'https://www.cepii.fr/DATA_DOWNLOAD/baci/data/BACI_HS96_V202501.zip'\n",
        "!unzip baci.zip"
      ],
      "metadata": {
        "id": "qoTwVXaVPc5H"
      },
      "execution_count": null,
      "outputs": []
    },
    {
      "cell_type": "code",
      "source": [
        "# Chapter classification as mentioned on the website (https://hts.usitc.gov/). This will help us aggregate products by chapter.\n",
        "# Define the mapping of chapters to categories\n",
        "categories = [\n",
        "    (range(1, 6), \"Live Animals; Animal Products\"),\n",
        "    (range(6, 15), \"Vegetable Products\"),\n",
        "    (range(15, 16), \"Animal or Vegetable Fats and Oils and Their Cleavage Products; Prepared Edible Fats; Animal or Vegetable Waxes\"),\n",
        "    (range(16, 25), \"Prepared Foodstuffs; Beverages, Spirits, and Vinegar; Tobacco and Manufactured Tobacco Substitutes\"),\n",
        "    (range(25, 28), \"Mineral Products\"),\n",
        "    (range(28, 39), \"Products of the Chemical or Allied Industries\"),\n",
        "    (range(39, 41), \"Plastics and Articles Thereof; Rubber and Articles Thereof\"),\n",
        "    (range(41, 44), \"Raw Hides and Skins, Leather, Furskins and Articles Thereof; Saddlery and Harness; Travel Goods, Handbags and Similar Containers; Articles of Animal Gut (Other Than Silkworm Gut)\"),\n",
        "    (range(44, 47), \"Wood and Articles of Wood; Wood Charcoal; Cork and Articles of Cork; Manufacturers of Straw, of Esparto or of Other Plaiting Materials; Basketware and Wickerwork\"),\n",
        "    (range(47, 50), \"Pulp of Wood or of Other Fibrous Cellulosic Material; Waste and Scrap of Paper or Paperboard; Paper and Paperboard and Articles Thereof\"),\n",
        "    (range(50, 64), \"Textile and Textile Articles\"),\n",
        "    (range(64, 68), \"Footwear, Headgear, Umbrellas, Sun Umbrellas, Walking Sticks, Seatsticks, Whips, Riding-Crops and Parts Thereof; Prepared Feathers and Articles Made Therewith; Artificial Flowers; Articles of Human Hair\"),\n",
        "    (range(68, 71), \"Articles of Stone, Plaster, Cement, Asbestos, Mica or Similar Materials; Ceramic Products; Glass and Glassware\"),\n",
        "    (range(71, 72), \"Natural or Cultured Pearls, Precious or Semiprecious Stones, Precious Metals, Metals Clad With Precious Metal, and Articles Thereof; Imitation Jewelry; Coin\"),\n",
        "    (range(72, 84), \"Base Metals and Articles of Base Metal\"),\n",
        "    (range(84, 86), \"Machinery and Mechanical Appliances; Electrical Equipment; Parts Thereof; Sound Recorders and Reproducers, Television Image and Sound Recorders and Reproducers, and Parts and Accessories of Such Articles\"),\n",
        "    (range(86, 90), \"Vehicles, Aircraft, Vessels and Associated Transport Equipment\"),\n",
        "    (range(90, 93), \"Optical, Photographic, Cinematographic, Measuring, Checking, Precision, Medical or Surgical Instruments and Apparatus; Clocks and Watches; Musical Instruments; Parts and Accessories Thereof\"),\n",
        "    (range(93, 94), \"Arms and Ammunition; Parts and Accessories Thereof\"),\n",
        "    (range(94, 97), \"Miscellaneous Manufactured Articles\"),\n",
        "    (range(97, 98), \"Works of Art, Collectors' Pieces and Antiques\"),\n",
        "    (range(98, 100), \"Special Classification Provisions; Temporary Legislation; Temporary Modifications Proclaimed pursuant to Trade Agreements Legislation; Additional Import Restrictions Proclaimed Pursuant to Section 22 of the Agricultural Adjustment Act, As Amended\"),\n",
        "]\n",
        "\n",
        "# Generate the data\n",
        "data = []\n",
        "for chapter_range, category in categories:\n",
        "    for chapter in chapter_range:\n",
        "        data.append((chapter, category))\n",
        "\n",
        "# Create DataFrame\n",
        "chapters_df = pd.DataFrame(data, columns = [\"chapter\", \"chapter_description\"])\n",
        "chapters_df['chapter'] = chapters_df['chapter'].astype(str)"
      ],
      "metadata": {
        "id": "NDL39-Q3PfX-"
      },
      "execution_count": null,
      "outputs": []
    },
    {
      "cell_type": "code",
      "source": [
        "# Merging all the datasets into a single one\n",
        "# Define the directory containing the files\n",
        "file_list = os.listdir('/content')\n",
        "directory = \"/content\"\n",
        "\n",
        "# Filter files that start with \"BACI_HS96\" and end with \".csv\"\n",
        "baci_files = [file for file in file_list if file.startswith(\"BACI_HS96\") and file.endswith(\".csv\")]\n",
        "\n",
        "# Create an empty DataFrame to store the combined data\n",
        "df_dicts = {}\n",
        "\n",
        "# Loop through each file and append the data\n",
        "for file in sorted(baci_files):\n",
        "    file_path = os.path.join(directory, file)  # Construct full file path\n",
        "    try:\n",
        "        df = pd.read_csv(file_path)  # Read CSV file\n",
        "        df = df.rename(columns = {'t' : 'year', 'i' : 'exporter',\n",
        "                           'j' : 'importer', 'k' : 'product_code',\n",
        "                           'v' : 'value', 'q' : 'quantity'})\n",
        "\n",
        "        # To homogenize for chapter mapping\n",
        "        df['product_code'] = df[\"product_code\"].astype(str).str.zfill(6)\n",
        "\n",
        "        # Extracting chapter and removing leading zeroes for mapping\n",
        "        df['chapter'] = df['product_code'].str[:2].astype(str).str.lstrip('0')\n",
        "        df_agg = df.merge(chapters_df, on = 'chapter').groupby(by = ['year', 'exporter',\n",
        "                                                                     'importer', 'chapter',\n",
        "                                                                     'chapter_description'])['value'].sum().to_frame().reset_index()\n",
        "\n",
        "        df_dicts[df_agg['year'].unique()[0]] = df_agg\n",
        "        #print(f\"processed: {df_agg['year'].unique()[0]}\")  # Optional log\n",
        "    except Exception as e:\n",
        "        print(f\"Error reading {file}: {e}\")  # Handle potential read errors"
      ],
      "metadata": {
        "id": "nSOHvpatPiVJ"
      },
      "execution_count": null,
      "outputs": []
    },
    {
      "cell_type": "code",
      "source": [
        "baci_df = pd.concat(df_dicts.values(), ignore_index = True)\n",
        "\n",
        "baci_df.to_csv('BACI_combined.csv', index = False)\n",
        "\n",
        "zip_filename = 'BACI_combined.zip'\n",
        "with zipfile.ZipFile(zip_filename, 'w', zipfile.ZIP_DEFLATED) as zipf:\n",
        "    zipf.write('BACI_combined.csv')\n",
        "\n",
        "#print(f\"Zipped file saved as {zip_filename}\")"
      ],
      "metadata": {
        "id": "I2r3VqPiR864"
      },
      "execution_count": null,
      "outputs": []
    }
  ]
}
