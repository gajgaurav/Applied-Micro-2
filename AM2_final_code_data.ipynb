{
 "cells": [
  {
   "cell_type": "code",
   "execution_count": 1,
   "metadata": {
    "id": "-tehtoycPFjC"
   },
   "outputs": [],
   "source": [
    "# Libraries\n",
    "import pandas as pd\n",
    "import numpy as np\n",
    "import matplotlib.pyplot as plt\n",
    "import os\n",
    "import zipfile"
   ]
  },
  {
   "cell_type": "code",
   "execution_count": 2,
   "metadata": {
    "colab": {
     "base_uri": "https://localhost:8080/"
    },
    "id": "qoTwVXaVPc5H",
    "outputId": "11db6a15-dbe2-4d72-f081-94e07fd541fd"
   },
   "outputs": [
    {
     "name": "stdout",
     "output_type": "stream",
     "text": [
      "--2025-03-19 12:08:12--  https://www.cepii.fr/DATA_DOWNLOAD/baci/data/BACI_HS96_V202501.zip\n",
      "Resolving www.cepii.fr (www.cepii.fr)... 46.18.195.88\n",
      "Connecting to www.cepii.fr (www.cepii.fr)|46.18.195.88|:443... connected.\n",
      "HTTP request sent, awaiting response... 200 OK\n",
      "Length: 2279389431 (2.1G) [application/x-zip-compressed]\n",
      "Saving to: ‘baci.zip’\n",
      "\n",
      "baci.zip            100%[===================>]   2.12G  16.3MB/s    in 2m 45s  \n",
      "\n",
      "2025-03-19 12:10:57 (13.2 MB/s) - ‘baci.zip’ saved [2279389431/2279389431]\n",
      "\n",
      "Archive:  baci.zip\n",
      "  inflating: BACI_HS96_Y1996_V202501.csv  \n",
      "  inflating: BACI_HS96_Y1997_V202501.csv  \n",
      "  inflating: BACI_HS96_Y1998_V202501.csv  \n",
      "  inflating: BACI_HS96_Y1999_V202501.csv  \n",
      "  inflating: BACI_HS96_Y2000_V202501.csv  \n",
      "  inflating: BACI_HS96_Y2001_V202501.csv  \n",
      "  inflating: BACI_HS96_Y2002_V202501.csv  \n",
      "  inflating: BACI_HS96_Y2003_V202501.csv  \n",
      "  inflating: BACI_HS96_Y2004_V202501.csv  \n",
      "  inflating: BACI_HS96_Y2005_V202501.csv  \n",
      "  inflating: BACI_HS96_Y2006_V202501.csv  \n",
      "  inflating: BACI_HS96_Y2007_V202501.csv  \n",
      "  inflating: BACI_HS96_Y2008_V202501.csv  \n",
      "  inflating: BACI_HS96_Y2009_V202501.csv  \n",
      "  inflating: BACI_HS96_Y2010_V202501.csv  \n",
      "  inflating: BACI_HS96_Y2011_V202501.csv  \n",
      "  inflating: BACI_HS96_Y2012_V202501.csv  \n",
      "  inflating: BACI_HS96_Y2013_V202501.csv  \n",
      "  inflating: BACI_HS96_Y2014_V202501.csv  \n",
      "  inflating: BACI_HS96_Y2015_V202501.csv  \n",
      "  inflating: BACI_HS96_Y2016_V202501.csv  \n",
      "  inflating: BACI_HS96_Y2017_V202501.csv  \n",
      "  inflating: BACI_HS96_Y2018_V202501.csv  \n",
      "  inflating: BACI_HS96_Y2019_V202501.csv  \n",
      "  inflating: BACI_HS96_Y2020_V202501.csv  \n",
      "  inflating: BACI_HS96_Y2021_V202501.csv  \n",
      "  inflating: BACI_HS96_Y2022_V202501.csv  \n",
      "  inflating: BACI_HS96_Y2023_V202501.csv  \n",
      "  inflating: product_codes_HS96_V202501.csv  \n",
      "  inflating: country_codes_V202501.csv  \n",
      "  inflating: Readme.txt              \n"
     ]
    }
   ],
   "source": [
    "# Downloading and unzipping the data\n",
    "!wget -O baci.zip 'https://www.cepii.fr/DATA_DOWNLOAD/baci/data/BACI_HS96_V202501.zip'\n",
    "!unzip baci.zip"
   ]
  },
  {
   "cell_type": "code",
   "execution_count": 3,
   "metadata": {
    "id": "NDL39-Q3PfX-"
   },
   "outputs": [],
   "source": [
    "# Chapter classification as mentioned on the website (https://hts.usitc.gov/). This will help us aggregate products by chapter.\n",
    "# Define the mapping of chapters to categories\n",
    "categories = [\n",
    "    (range(1, 6), 'Live Animals; Animal Products'),\n",
    "    (range(6, 15), 'Vegetable Products'),\n",
    "    (range(15, 16), 'Animal or Vegetable Fats and Oils and Their Cleavage Products; Prepared Edible Fats; Animal or Vegetable Waxes'),\n",
    "    (range(16, 25), 'Prepared Foodstuffs; Beverages, Spirits, and Vinegar; Tobacco and Manufactured Tobacco Substitutes'),\n",
    "    (range(25, 28), 'Mineral Products'),\n",
    "    (range(28, 39), 'Products of the Chemical or Allied Industries'),\n",
    "    (range(39, 41), 'Plastics and Articles Thereof; Rubber and Articles Thereof'),\n",
    "    (range(41, 44), 'Raw Hides and Skins, Leather, Furskins and Articles Thereof; Saddlery and Harness; Travel Goods, Handbags and Similar Containers; Articles of Animal Gut (Other Than Silkworm Gut)'),\n",
    "    (range(44, 47), 'Wood and Articles of Wood; Wood Charcoal; Cork and Articles of Cork; Manufacturers of Straw, of Esparto or of Other Plaiting Materials; Basketware and Wickerwork'),\n",
    "    (range(47, 50), 'Pulp of Wood or of Other Fibrous Cellulosic Material; Waste and Scrap of Paper or Paperboard; Paper and Paperboard and Articles Thereof'),\n",
    "    (range(50, 64), 'Textile and Textile Articles'),\n",
    "    (range(64, 68), 'Footwear, Headgear, Umbrellas, Sun Umbrellas, Walking Sticks, Seatsticks, Whips, Riding-Crops and Parts Thereof; Prepared Feathers and Articles Made Therewith; Artificial Flowers; Articles of Human Hair'),\n",
    "    (range(68, 71), 'Articles of Stone, Plaster, Cement, Asbestos, Mica or Similar Materials; Ceramic Products; Glass and Glassware'),\n",
    "    (range(71, 72), 'Natural or Cultured Pearls, Precious or Semiprecious Stones, Precious Metals, Metals Clad With Precious Metal, and Articles Thereof; Imitation Jewelry; Coin'),\n",
    "    (range(72, 84), 'Base Metals and Articles of Base Metal'),\n",
    "    (range(84, 86), 'Machinery and Mechanical Appliances; Electrical Equipment; Parts Thereof; Sound Recorders and Reproducers, Television Image and Sound Recorders and Reproducers, and Parts and Accessories of Such Articles'),\n",
    "    (range(86, 90), 'Vehicles, Aircraft, Vessels and Associated Transport Equipment'),\n",
    "    (range(90, 93), 'Optical, Photographic, Cinematographic, Measuring, Checking, Precision, Medical or Surgical Instruments and Apparatus; Clocks and Watches; Musical Instruments; Parts and Accessories Thereof'),\n",
    "    (range(93, 94), 'Arms and Ammunition; Parts and Accessories Thereof'),\n",
    "    (range(94, 97), 'Miscellaneous Manufactured Articles'),\n",
    "    (range(97, 98), 'Works of Art, Collectors\\' Pieces and Antiques'),\n",
    "    (range(98, 100), 'Special Classification Provisions; Temporary Legislation; Temporary Modifications Proclaimed pursuant to Trade Agreements Legislation; Additional Import Restrictions Proclaimed Pursuant to Section 22 of the Agricultural Adjustment Act, As Amended'),\n",
    "]\n",
    "\n",
    "# Generate the data\n",
    "data = []\n",
    "for chapter_range, category in categories:\n",
    "    for chapter in chapter_range:\n",
    "        data.append((chapter, category))\n",
    "\n",
    "# Create DataFrame\n",
    "chapters_df = pd.DataFrame(data, columns = ['chapter', 'chapter_description'])\n",
    "chapters_df['chapter'] = chapters_df['chapter'].astype(str)\n"
   ]
  },
  {
   "cell_type": "code",
   "execution_count": null,
   "metadata": {
    "colab": {
     "base_uri": "https://localhost:8080/"
    },
    "id": "nSOHvpatPiVJ",
    "outputId": "f0680629-6fc1-4feb-88ee-21b052bd9ec8"
   },
   "outputs": [
    {
     "name": "stdout",
     "output_type": "stream",
     "text": [
      "processed: 1996\n",
      "processed: 1997\n",
      "processed: 1998\n",
      "processed: 1999\n",
      "processed: 2000\n",
      "processed: 2001\n",
      "processed: 2002\n",
      "processed: 2003\n",
      "processed: 2004\n",
      "processed: 2005\n",
      "processed: 2006\n",
      "processed: 2007\n",
      "processed: 2008\n",
      "processed: 2009\n",
      "processed: 2010\n",
      "processed: 2011\n",
      "processed: 2012\n",
      "processed: 2013\n",
      "processed: 2014\n",
      "processed: 2015\n",
      "processed: 2016\n",
      "processed: 2017\n",
      "processed: 2018\n",
      "processed: 2019\n",
      "processed: 2020\n",
      "processed: 2021\n",
      "processed: 2022\n",
      "processed: 2023\n"
     ]
    }
   ],
   "source": [
    "# Merging all the datasets into a single one\n",
    "# Define the directory containing the files\n",
    "file_list = os.listdir('/content')\n",
    "directory = '/content'\n",
    "\n",
    "# Filter files that start with 'BACI_HS96' and end with '.csv'\n",
    "baci_files = [file for file in file_list if file.startswith('BACI_HS96') and file.endswith('.csv')]\n",
    "\n",
    "# Create an empty DataFrame to store the combined data\n",
    "df_dicts = {}\n",
    "\n",
    "# Loop through each file and append the data\n",
    "for file in sorted(baci_files):\n",
    "    file_path = os.path.join(directory, file)  # Construct full file path\n",
    "    try:\n",
    "        df = pd.read_csv(file_path)  # Read CSV file\n",
    "        df = df.rename(columns = {'t' : 'year', 'i' : 'exporter',\n",
    "                                  'j' : 'importer', 'k' : 'product_code',\n",
    "                                  'v' : 'value', 'q' : 'quantity'})\n",
    "\n",
    "        # To homogenize for chapter mapping\n",
    "        df['product_code'] = df['product_code'].astype(str).str.zfill(6)\n",
    "\n",
    "        # Extracting chapter and removing leading zeroes for mapping\n",
    "        df['chapter'] = df['product_code'].str[:2].astype(str).str.lstrip('0')\n",
    "        df_agg = df.merge(chapters_df, on = 'chapter') \\\n",
    "                   .groupby(['year', 'exporter', 'importer', 'chapter', 'chapter_description'])[['value', 'quantity']] \\\n",
    "                   .sum() \\\n",
    "                   .reset_index()\n",
    "\n",
    "        df_dicts[df_agg['year'].unique()[0]] = df_agg\n",
    "        print(f'processed: {df_agg[\"year\"].unique()[0]}')  # Optional log\n",
    "    except Exception as e:\n",
    "        print(f'Error reading {file}: {e}')  # Handle potential read errors\n"
   ]
  },
  {
   "cell_type": "code",
   "execution_count": 5,
   "metadata": {
    "colab": {
     "base_uri": "https://localhost:8080/"
    },
    "id": "I2r3VqPiR864",
    "outputId": "088a5ca6-9cd9-40d8-e68b-16f452d9e864"
   },
   "outputs": [
    {
     "name": "stdout",
     "output_type": "stream",
     "text": [
      "Zipped file saved as BACI_combined.zip\n"
     ]
    }
   ],
   "source": [
    "baci_df = pd.concat(df_dicts.values(), ignore_index = True)\n",
    "\n",
    "baci_df.to_csv('BACI_combined.csv', index = False)\n",
    "\n",
    "zip_filename = 'BACI_combined.zip'\n",
    "with zipfile.ZipFile(zip_filename, 'w', zipfile.ZIP_DEFLATED) as zipf:\n",
    "    zipf.write('BACI_combined.csv')\n",
    "\n",
    "print(f\"Zipped file saved as {zip_filename}\")"
   ]
  }
 ],
 "metadata": {
  "accelerator": "TPU",
  "colab": {
   "gpuType": "V28",
   "provenance": []
  },
  "kernelspec": {
   "display_name": "Python 3",
   "name": "python3"
  },
  "language_info": {
   "name": "python"
  }
 },
 "nbformat": 4,
 "nbformat_minor": 0
}
